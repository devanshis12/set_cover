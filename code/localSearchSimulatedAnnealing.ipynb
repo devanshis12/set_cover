{
  "nbformat": 4,
  "nbformat_minor": 0,
  "metadata": {
    "colab": {
      "provenance": []
    },
    "kernelspec": {
      "name": "python3",
      "display_name": "Python 3"
    },
    "language_info": {
      "name": "python"
    }
  },
  "cells": [
    {
      "cell_type": "code",
      "execution_count": null,
      "metadata": {
        "id": "MjT6PqJ8Tvl6"
      },
      "outputs": [],
      "source": [
        "\"\"\"here are many variants of local search (LS) and you are free to select which one you\n",
        "want to implement. Please implement 2 types/variants of local search. They can be in different families\n",
        "of LS such as Simulated Annealing vs Hill Climbing, or they can be in the same general family but\n",
        "should differ by the neighborhood they are using, or by the perturbation strategy, etc.\n",
        "\n",
        "Hint: While local search does not guarantee the convergence of solutions, most of the time it should\n",
        "converge relatively quickly given a good search space. How do you formulate the search space such that\n",
        "the exploration is efficient and doesn’t get stuck? This can have a night-and-day difference in simulated\n",
        "annealing or hill climbing algorithms.\"\"\""
      ]
    },
    {
      "cell_type": "code",
      "source": [
        "# The input is a set of n elements and a collection of subsets of these elements.\n",
        "# The goal is to find the smallest number of subsets such that their union covers all elements in the set."
      ],
      "metadata": {
        "id": "_IOjRNRZiC-t"
      },
      "execution_count": null,
      "outputs": []
    },
    {
      "cell_type": "code",
      "source": [
        "# idea: Simulated Annealing\n",
        "# - start with greedy initial solution that covers all elements\n",
        "# - iteratively explores neighboring solutions by adding or removing subsets based on probability (50% chance to add, 50% to remove for example)\n",
        "# - The cost function will minimize number of subsets (cost will be length of set of subsets)\n",
        "# - SA's temperature parameter starts at 100, uses cooling rate of 0.95 per iteration\n",
        "# - after 10 iterations, if no improvement, algorithm will return the set cover\n",
        "\n",
        "# little confused on how to initialize the original guess - should we use greedy to initialize the guess, or just randomly initialize a guess"
      ],
      "metadata": {
        "id": "Dq0ica1oiH9F"
      },
      "execution_count": null,
      "outputs": []
    }
  ]
}