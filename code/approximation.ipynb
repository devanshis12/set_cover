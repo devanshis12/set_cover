{
 "cells": [
  {
   "cell_type": "code",
   "execution_count": null,
   "metadata": {},
   "outputs": [],
   "source": [
    "# Please implement an approximation\n",
    "# algorithm for the Minimum Set Cover with approximation guarantees of O(log n).\n",
    "# Hint: There is a simple and intuitive greedy algorithm that heuristically chooses a subset until U is\n",
    "# covered and can achieve an approximation of O(log n). Can you come up with such an algorithm?"
   ]
  },
  {
   "cell_type": "code",
   "execution_count": null,
   "metadata": {},
   "outputs": [],
   "source": [
    "# The input is a set of n elements and a collection of subsets of these elements. \n",
    "# The goal is to find the smallest number of subsets such that their union covers all elements in the set."
   ]
  },
  {
   "cell_type": "code",
   "execution_count": null,
   "metadata": {},
   "outputs": [],
   "source": [
    "'''\n",
    "approximation guarantees of O(log n)\n",
    "OPT is size of the optimal solution\n",
    "k is size of the greedy solution\n",
    "need to show: GREEDY <= OPT * log n\n",
    "    1. at each step, we pick the set that covers the most uncovered elements => GREEDY covers at least as many as any OPT set would\n",
    "        - let m be the size of the set we picked\n",
    "        - m <= size of the set OPT picked\n",
    "    2. GREEDY covers at least >= remaining elements / size of the set we picked\n",
    "    3. using recursion, let r_i be the number of remaining elements after i iterations\n",
    "        5. r_i <= r_{i-1} - r_{i-1}/m (r_i = 0 is the goal => all elements are covered)\n",
    "        6. r_i <= n(1 - 1/m)^i\n",
    "        7. n(1 - 1/m)^k < 1     (take log of both sides)\n",
    "        8. k >= m*log(n)         \n",
    "        9. k = O(m*log(n))\n",
    "        10. k = O(OPT*log n)    (since m <= OPT)\n",
    "    11. k = O(log n)\n",
    "'''"
   ]
  },
  {
   "cell_type": "code",
   "execution_count": null,
   "metadata": {},
   "outputs": [],
   "source": [
    "# idea 1: select the subset that covers the most uncovered elements i.e. when added to the cover, increases the number of covered elements the most\n",
    "\n",
    "def approx_msc(U, S):\n",
    "    '''\n",
    "    input: U = {x_1, x_2, ..., x_n}: set of n elements\n",
    "           S = {S_1, S_2, ..., S_m} where S_i is a subset of U: list of sets\n",
    "    output: C is a subset of S such that C covers all elements in U: list of sets\n",
    "    '''\n",
    "    C = []                # initialize the cover as empty\n",
    "    uncovered = set(U)    # all elements in U are initially uncovered\n",
    "    while uncovered:      # while there are still uncovered elements\n",
    "        best_subset = max(S, key=lambda s: len(uncovered & s))  # find the subset that covers the most uncovered elements\n",
    "        C.append(best_subset)     # add it to the cover\n",
    "        uncovered -= best_subset  # remove the covered elements from the uncovered set\n",
    "    return C               # return the cover"
   ]
  }
 ],
 "metadata": {
  "kernelspec": {
   "display_name": "Python 3",
   "language": "python",
   "name": "python3"
  },
  "language_info": {
   "name": "python",
   "version": "3.12.0"
  }
 },
 "nbformat": 4,
 "nbformat_minor": 2
}
