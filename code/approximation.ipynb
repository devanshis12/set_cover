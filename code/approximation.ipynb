{
 "cells": [
  {
   "cell_type": "code",
   "execution_count": null,
   "metadata": {},
   "outputs": [],
   "source": [
    "# Please implement an approximation\n",
    "# algorithm for the Minimum Set Cover with approximation guarantees of O(log n).\n",
    "# Hint: There is a simple and intuitive greedy algorithm that heuristically chooses a subset until U is\n",
    "# covered and can achieve an approximation of O(log n). Can you come up with such an algorithm?"
   ]
  },
  {
   "cell_type": "code",
   "execution_count": null,
   "metadata": {},
   "outputs": [],
   "source": [
    "# The input is a set of n elements and a collection of subsets of these elements. \n",
    "# The goal is to find the smallest number of subsets such that their union covers all elements in the set."
   ]
  },
  {
   "cell_type": "code",
   "execution_count": null,
   "metadata": {},
   "outputs": [],
   "source": [
    "# idea 1: select the subset that covers the most uncovered elements i.e. when added to the cover, increases the number of covered elements the most\n"
   ]
  },
  {
   "cell_type": "code",
   "execution_count": null,
   "metadata": {},
   "outputs": [],
   "source": [
    "# idea 2: select the subset of the largest size"
   ]
  }
 ],
 "metadata": {
  "kernelspec": {
   "display_name": "Python 3",
   "language": "python",
   "name": "python3"
  },
  "language_info": {
   "name": "python",
   "version": "3.12.0"
  }
 },
 "nbformat": 4,
 "nbformat_minor": 2
}
